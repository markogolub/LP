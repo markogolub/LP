{
 "cells": [
  {
   "cell_type": "markdown",
   "metadata": {},
   "source": [
    "### Stvaranje modela."
   ]
  },
  {
   "cell_type": "code",
   "execution_count": 1,
   "metadata": {},
   "outputs": [],
   "source": [
    "import pulp\n",
    "import time\n",
    "\n",
    "model = pulp.LpProblem('Problem', pulp.LpMinimize)"
   ]
  },
  {
   "cell_type": "markdown",
   "metadata": {},
   "source": [
    "### Stvaranje varijabli. "
   ]
  },
  {
   "cell_type": "code",
   "execution_count": 2,
   "metadata": {},
   "outputs": [],
   "source": [
    "x11 = pulp.LpVariable(\"x11\", lowBound=0)\n",
    "x12 = pulp.LpVariable(\"x12\", lowBound=0)\n",
    "x13 = pulp.LpVariable(\"x13\", lowBound=0)\n",
    "\n",
    "x21 = pulp.LpVariable(\"x21\", lowBound=0)\n",
    "x22 = pulp.LpVariable(\"x22\", lowBound=0)\n",
    "x23 = pulp.LpVariable(\"x23\", lowBound=0)"
   ]
  },
  {
   "cell_type": "markdown",
   "metadata": {},
   "source": [
    "### Stvaranje funkcije cilja."
   ]
  },
  {
   "cell_type": "code",
   "execution_count": 3,
   "metadata": {},
   "outputs": [],
   "source": [
    "model += 5*x11 + 5*x12 + 3*x13 + 6*x21 + 4*x22 + x23"
   ]
  },
  {
   "cell_type": "markdown",
   "metadata": {},
   "source": [
    "### Postavljanje ograničenja."
   ]
  },
  {
   "cell_type": "code",
   "execution_count": 4,
   "metadata": {},
   "outputs": [],
   "source": [
    "model += x11 + x21 <= 8\n",
    "model += x11 + x21 >= 8\n",
    "\n",
    "model += x12 + x22 <= 5\n",
    "model += x12 + x22 >= 5\n",
    "\n",
    "model += x13 + x23 <= 2\n",
    "model += x13 + x23 >= 2\n",
    "\n",
    "model += x11 + x12 + x13 <= 6\n",
    "model += x11 + x12 + x13 >= 6\n",
    "\n",
    "model += x21 + x22 + x23 <= 9\n",
    "model += x21 + x22 + x23 >= 9"
   ]
  },
  {
   "cell_type": "markdown",
   "metadata": {},
   "source": [
    "### Ispis rješenja problema"
   ]
  },
  {
   "cell_type": "code",
   "execution_count": 7,
   "metadata": {},
   "outputs": [
    {
     "name": "stdout",
     "output_type": "stream",
     "text": [
      "Problem:\n",
      "MINIMIZE\n",
      "5*x11 + 5*x12 + 3*x13 + 6*x21 + 4*x22 + 1*x23 + 0\n",
      "SUBJECT TO\n",
      "_C1: x11 + x21 <= 8\n",
      "\n",
      "_C2: x11 + x21 >= 8\n",
      "\n",
      "_C3: x12 + x22 <= 5\n",
      "\n",
      "_C4: x12 + x22 >= 5\n",
      "\n",
      "_C5: x13 + x23 <= 2\n",
      "\n",
      "_C6: x13 + x23 >= 2\n",
      "\n",
      "_C7: x11 + x12 + x13 <= 6\n",
      "\n",
      "_C8: x11 + x12 + x13 >= 6\n",
      "\n",
      "_C9: x21 + x22 + x23 <= 9\n",
      "\n",
      "_C10: x21 + x22 + x23 >= 9\n",
      "\n",
      "VARIABLES\n",
      "x11 Continuous\n",
      "x12 Continuous\n",
      "x13 Continuous\n",
      "x21 Continuous\n",
      "x22 Continuous\n",
      "x23 Continuous\n",
      "\n",
      "Optimal\n",
      "\n",
      " x11 : 6.0 \n",
      " x12 : 0.0 \n",
      " x13 : 0.0 \n",
      " x21 : 2.0 \n",
      " x22 : 5.0 \n",
      " x23 : 2.0 \n",
      " \n",
      " Minimal transport cost : 64.0 \n",
      " Time:  0.01412 s\n"
     ]
    }
   ],
   "source": [
    "print(model)\n",
    "\n",
    "start_time = time.time()\n",
    "\n",
    "status = model.solve()\n",
    "\n",
    "print(pulp.LpStatus[status])\n",
    "\n",
    "print('\\n',\n",
    "      \"x11 :\", pulp.value(x11), '\\n',\n",
    "      \"x12 :\", pulp.value(x12), '\\n',\n",
    "      \"x13 :\", pulp.value(x13), '\\n',\n",
    "      \"x21 :\", pulp.value(x21), '\\n',\n",
    "      \"x22 :\", pulp.value(x22), '\\n',\n",
    "      \"x23 :\", pulp.value(x23), '\\n',\n",
    "      '\\n',\n",
    "      \"Minimal transport cost :\", pulp.value(model.objective), '\\n',\n",
    "      \"Time: \", str(round(time.time() - start_time, 5)), \"s\")"
   ]
  },
  {
   "cell_type": "markdown",
   "metadata": {},
   "source": [
    "### Postavljanje dodatnih varijabli."
   ]
  },
  {
   "cell_type": "code",
   "execution_count": 8,
   "metadata": {},
   "outputs": [],
   "source": [
    "x11 = pulp.LpVariable(\"x11\", lowBound=0)\n",
    "x12 = pulp.LpVariable(\"x12\", lowBound=0)\n",
    "x13 = pulp.LpVariable(\"x13\", lowBound=0)\n",
    "x14 = pulp.LpVariable(\"x14\", lowBound=0)\n",
    "x15 = pulp.LpVariable(\"x15\", lowBound=0)\n",
    "\n",
    "x21 = pulp.LpVariable(\"x21\", lowBound=0)\n",
    "x22 = pulp.LpVariable(\"x22\", lowBound=0)\n",
    "x23 = pulp.LpVariable(\"x23\", lowBound=0)\n",
    "x24 = pulp.LpVariable(\"x24\", lowBound=0)\n",
    "x25 = pulp.LpVariable(\"x25\", lowBound=0)\n",
    "\n",
    "x31 = pulp.LpVariable(\"x31\", lowBound=0)\n",
    "x32 = pulp.LpVariable(\"x32\", lowBound=0)\n",
    "x33 = pulp.LpVariable(\"x33\", lowBound=0)\n",
    "x34 = pulp.LpVariable(\"x34\", lowBound=0)\n",
    "x35 = pulp.LpVariable(\"x35\", lowBound=0)"
   ]
  },
  {
   "cell_type": "markdown",
   "metadata": {},
   "source": [
    "### Stvaranje problema i funkcije cilja."
   ]
  },
  {
   "cell_type": "code",
   "execution_count": 10,
   "metadata": {},
   "outputs": [],
   "source": [
    "extended_model = pulp.LpProblem('Problem', pulp.LpMinimize)\n",
    "extended_model += 5*x11 + 5*x12 + 3*x13 + 7*x14 + 6*x15 + 6*x21 + 4*x22 + 1*x23 + 4*x24 + 6*x25 + 8*x31 + 6*x32 + 5*x33 + 2*x34 + 4*x35"
   ]
  },
  {
   "cell_type": "markdown",
   "metadata": {},
   "source": [
    "### Postavljanje novih ograničenja."
   ]
  },
  {
   "cell_type": "code",
   "execution_count": 11,
   "metadata": {},
   "outputs": [],
   "source": [
    "extended_model += x11 + x21 + x31 <= 8\n",
    "extended_model += x11 + x21 + x31 >= 8\n",
    "\n",
    "extended_model += x12 + x22 + x32 <= 5\n",
    "extended_model += x12 + x22 + x32 >= 5\n",
    "\n",
    "extended_model += x13 + x23 + x33 <= 2\n",
    "extended_model += x13 + x23 + x33 >= 2\n",
    "\n",
    "extended_model += x14 + x24 + x34 <= 9\n",
    "extended_model += x14 + x24 + x34 >= 9\n",
    "\n",
    "extended_model += x15 + x25 + x35 <= 16\n",
    "extended_model += x15 + x25 + x35 >= 16\n",
    "\n",
    "extended_model += x11 + x12 + x13 + x14 + x15 <= 6\n",
    "extended_model += x11 + x12 + x13 + x14 + x15 >= 6\n",
    "\n",
    "extended_model += x21 + x22 + x23 + x24 + x25 <= 9\n",
    "extended_model += x21 + x22 + x23 + x24 + x25 >= 9\n",
    "\n",
    "extended_model += x31 + x32 + x33 + x34 + x35 <= 25\n",
    "extended_model += x31 + x32 + x33 + x34 + x35 >= 25"
   ]
  },
  {
   "cell_type": "markdown",
   "metadata": {},
   "source": [
    "### Ispis rješenja problema."
   ]
  },
  {
   "cell_type": "code",
   "execution_count": 12,
   "metadata": {},
   "outputs": [
    {
     "name": "stdout",
     "output_type": "stream",
     "text": [
      "Problem:\n",
      "MINIMIZE\n",
      "5*x11 + 5*x12 + 3*x13 + 7*x14 + 6*x15 + 6*x21 + 4*x22 + 1*x23 + 4*x24 + 6*x25 + 8*x31 + 6*x32 + 5*x33 + 2*x34 + 4*x35 + 0\n",
      "SUBJECT TO\n",
      "_C1: x11 + x21 + x31 <= 8\n",
      "\n",
      "_C2: x11 + x21 + x31 >= 8\n",
      "\n",
      "_C3: x12 + x22 + x32 <= 5\n",
      "\n",
      "_C4: x12 + x22 + x32 >= 5\n",
      "\n",
      "_C5: x13 + x23 + x33 <= 2\n",
      "\n",
      "_C6: x13 + x23 + x33 >= 2\n",
      "\n",
      "_C7: x14 + x24 + x34 <= 9\n",
      "\n",
      "_C8: x14 + x24 + x34 >= 9\n",
      "\n",
      "_C9: x15 + x25 + x35 <= 16\n",
      "\n",
      "_C10: x15 + x25 + x35 >= 16\n",
      "\n",
      "_C11: x11 + x12 + x13 + x14 + x15 <= 6\n",
      "\n",
      "_C12: x11 + x12 + x13 + x14 + x15 >= 6\n",
      "\n",
      "_C13: x21 + x22 + x23 + x24 + x25 <= 9\n",
      "\n",
      "_C14: x21 + x22 + x23 + x24 + x25 >= 9\n",
      "\n",
      "_C15: x31 + x32 + x33 + x34 + x35 <= 25\n",
      "\n",
      "_C16: x31 + x32 + x33 + x34 + x35 >= 25\n",
      "\n",
      "VARIABLES\n",
      "x11 Continuous\n",
      "x12 Continuous\n",
      "x13 Continuous\n",
      "x14 Continuous\n",
      "x15 Continuous\n",
      "x21 Continuous\n",
      "x22 Continuous\n",
      "x23 Continuous\n",
      "x24 Continuous\n",
      "x25 Continuous\n",
      "x31 Continuous\n",
      "x32 Continuous\n",
      "x33 Continuous\n",
      "x34 Continuous\n",
      "x35 Continuous\n",
      "\n",
      "Optimal\n",
      "\n",
      " x11 : 6.0 \n",
      " x12 : 0.0 \n",
      " x13 : 0.0 \n",
      " x14 : 0.0 \n",
      " x15 : 0.0 \n",
      " x21 : 2.0 \n",
      " x22 : 5.0 \n",
      " x23 : 2.0 \n",
      " x24 : 0.0 \n",
      " x25 : 0.0 \n",
      " x31 : 0.0 \n",
      " x32 : 0.0 \n",
      " x33 : 0.0 \n",
      " x34 : 9.0 \n",
      " x35 : 16.0 \n",
      " \n",
      " Minimal transport cost : 146.0 \n",
      " Time:  0.00953 s\n"
     ]
    }
   ],
   "source": [
    "print(extended_model)\n",
    "\n",
    "start_time = time.time()\n",
    "\n",
    "status = extended_model.solve()\n",
    "\n",
    "print(pulp.LpStatus[status])\n",
    "\n",
    "print('\\n',\n",
    "      \"x11 :\", pulp.value(x11), '\\n',\n",
    "      \"x12 :\", pulp.value(x12), '\\n',\n",
    "      \"x13 :\", pulp.value(x13), '\\n',\n",
    "      \"x14 :\", pulp.value(x14), '\\n',\n",
    "      \"x15 :\", pulp.value(x15), '\\n',\n",
    "      \"x21 :\", pulp.value(x21), '\\n',\n",
    "      \"x22 :\", pulp.value(x22), '\\n',\n",
    "      \"x23 :\", pulp.value(x23), '\\n',\n",
    "      \"x24 :\", pulp.value(x24), '\\n',\n",
    "      \"x25 :\", pulp.value(x25), '\\n',\n",
    "      \"x31 :\", pulp.value(x31), '\\n',\n",
    "      \"x32 :\", pulp.value(x32), '\\n',\n",
    "      \"x33 :\", pulp.value(x33), '\\n',\n",
    "      \"x34 :\", pulp.value(x34), '\\n',\n",
    "      \"x35 :\", pulp.value(x35), '\\n',\n",
    "      '\\n',\n",
    "      \"Minimal transport cost :\", pulp.value(extended_model.objective), '\\n',\n",
    "      \"Time: \", str(round(time.time() - start_time, 5)), \"s\")"
   ]
  }
 ],
 "metadata": {
  "kernelspec": {
   "display_name": "Python 3",
   "language": "python",
   "name": "python3"
  },
  "language_info": {
   "codemirror_mode": {
    "name": "ipython",
    "version": 3
   },
   "file_extension": ".py",
   "mimetype": "text/x-python",
   "name": "python",
   "nbconvert_exporter": "python",
   "pygments_lexer": "ipython3",
   "version": "3.5.2"
  }
 },
 "nbformat": 4,
 "nbformat_minor": 4
}
